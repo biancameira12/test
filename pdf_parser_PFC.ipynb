{
 "cells": [
  {
   "cell_type": "code",
   "execution_count": 1,
   "id": "committed-torture",
   "metadata": {
    "ExecuteTime": {
     "end_time": "2021-05-18T11:36:08.257515Z",
     "start_time": "2021-05-18T11:36:07.611749Z"
    }
   },
   "outputs": [],
   "source": [
    "import pdfplumber"
   ]
  },
  {
   "cell_type": "code",
   "execution_count": 2,
   "id": "heated-bangkok",
   "metadata": {
    "ExecuteTime": {
     "end_time": "2021-05-18T11:36:08.785565Z",
     "start_time": "2021-05-18T11:36:08.259280Z"
    }
   },
   "outputs": [
    {
     "name": "stdout",
     "output_type": "stream",
     "text": [
      "MINISTÉRIO DA DEFESA\n",
      "EXÉRCITO BRASILEIRO\n",
      "DEPARTAMENTO DE CIÊNCIA E TECNOLOGIA\n",
      "INSTITUTO MILITAR DE ENGENHARIA\n",
      "CURSO DE GRADUAÇÃO EM ENGENHARIA DA COMPUTAÇÃO\n",
      "CARLA SZE COSENZA\n",
      "LUCAS BASTOS GERMANO\n",
      "CONTROLE DE DRONES ATRAVÉS DO RECONHECIMENTO DE\n",
      "IMAGENS DO TERRENO\n",
      "RIO DE JANEIRO\n",
      "2020\n"
     ]
    }
   ],
   "source": [
    "path = 'PFC2.pdf'\n",
    "\n",
    "with pdfplumber.open(path) as pdf:\n",
    "    page = [pdf.pages[i].extract_text() for i in range(10)]\n",
    "    \n",
    "print(page[0])"
   ]
  },
  {
   "cell_type": "code",
   "execution_count": 3,
   "id": "elementary-oregon",
   "metadata": {
    "ExecuteTime": {
     "end_time": "2021-05-18T11:36:08.789778Z",
     "start_time": "2021-05-18T11:36:08.787353Z"
    }
   },
   "outputs": [
    {
     "name": "stdout",
     "output_type": "stream",
     "text": [
      "CARLA SZE COSENZA\n",
      "LUCAS BASTOS GERMANO\n",
      "CONTROLE DE DRONES ATRAVÉS DO RECONHECIMENTO DE\n",
      "IMAGENS DO TERRENO\n",
      "Projeto de Final de Curso apresentado ao Curso de Gradu-\n",
      "ação em Engenharia da Computação do Instituto Militar\n",
      "de Engenharia, como requisito parcial para a obtenção do\n",
      "título de Bacharel em Engenharia da Computação.\n",
      "Orientador(es): Paulo Fernando Ferreira Rosa, Ph.D.\n",
      "Erick Menezes Moreira, D.Sc.\n",
      "Marlos de Mendonça Corrêa, M.Sc.\n",
      "Rio de Janeiro\n",
      "2020\n"
     ]
    }
   ],
   "source": [
    "print(page[1])"
   ]
  },
  {
   "cell_type": "code",
   "execution_count": 4,
   "id": "foster-wednesday",
   "metadata": {
    "ExecuteTime": {
     "end_time": "2021-05-18T11:36:08.799907Z",
     "start_time": "2021-05-18T11:36:08.791235Z"
    }
   },
   "outputs": [
    {
     "data": {
      "text/plain": [
       "'Instituto Militar De Engenharia'"
      ]
     },
     "execution_count": 4,
     "metadata": {},
     "output_type": "execute_result"
    }
   ],
   "source": [
    "institution = page[0].split('\\n')[3].title()\n",
    "institution"
   ]
  },
  {
   "cell_type": "code",
   "execution_count": 5,
   "id": "multiple-laugh",
   "metadata": {
    "ExecuteTime": {
     "end_time": "2021-05-18T11:36:08.804013Z",
     "start_time": "2021-05-18T11:36:08.801473Z"
    }
   },
   "outputs": [],
   "source": [
    "for i in range(len(page)):\n",
    "    if page[i].startswith('RESUMO\\n'):\n",
    "        abs_page = i\n",
    "    if page[i].count('CEP: '):\n",
    "        title_page = i"
   ]
  },
  {
   "cell_type": "code",
   "execution_count": 6,
   "id": "starting-mechanism",
   "metadata": {
    "ExecuteTime": {
     "end_time": "2021-05-18T11:36:08.810386Z",
     "start_time": "2021-05-18T11:36:08.805433Z"
    }
   },
   "outputs": [],
   "source": [
    "abstract_pt = page[abs_page].split('RESUMO\\n')[1].split('\\nPalavras-chave:')[0].replace('\\n', ' ')"
   ]
  },
  {
   "cell_type": "code",
   "execution_count": 7,
   "id": "major-adventure",
   "metadata": {
    "ExecuteTime": {
     "end_time": "2021-05-18T11:36:08.815840Z",
     "start_time": "2021-05-18T11:36:08.811690Z"
    }
   },
   "outputs": [
    {
     "data": {
      "text/plain": [
       "'A indústria de drones já possuí um valor bilionário, e mesmo assim prevê um grande crescimento nos próximos anos. Isto é devido ao fato que essas aeronaves estão cada vez mais sendo utilizadas para realização de tarefas comerciais, como entregar compras e monitorar plantações. Conseguir navegar é uma tarefa essencial para estes robôs e suas novas funcionalidades estão exigindo cada vez mais dessa tecnologia. Atualmente, vem-se conﬁandodemasiadamentenautilizaçãodossistemasdegeolocalizaçãoporsatélite;todavia, seu erro de aproximação impossibilita tarefas de localização com requisitos de acurácia adequados e sua falta de estabilidade, em certos ambientes, demanda outras tecnologias para garantir a movimentação precisa de aeronaves remotamente pilotadas. Este trabalho propõe uma solução para a navegação através do reconhecimento de imagens do terreno. Nele, um veículo em movimento é equipado com uma câmera para capturar imagens e um algoritmo de scene matching identiﬁca pontos chaves dessas imagens, relacionando-as com um conjunto de imagens previamente adquirido, localizando o drone no terreno. Os resultados foram avaliados em uma simulação de pequena escala de uma base petrolífera real, proveniente do desaﬁo Petrobras, que é motivado por tarefas de interesse da indústria de óleo e gás. Obteve-se um software, que gera a navegação correta em ambientes fechados com controle de luz e um mapa pequeno.'"
      ]
     },
     "execution_count": 7,
     "metadata": {},
     "output_type": "execute_result"
    }
   ],
   "source": [
    "abstract_pt"
   ]
  },
  {
   "cell_type": "code",
   "execution_count": 8,
   "id": "finished-perth",
   "metadata": {
    "ExecuteTime": {
     "end_time": "2021-05-18T11:36:08.819884Z",
     "start_time": "2021-05-18T11:36:08.817752Z"
    }
   },
   "outputs": [],
   "source": [
    "abstract_eng = page[abs_page+1].split('ABSTRACT\\n')[1].split('\\nKeywords:')[0].replace('\\n', ' ')"
   ]
  },
  {
   "cell_type": "code",
   "execution_count": 9,
   "id": "clear-klein",
   "metadata": {
    "ExecuteTime": {
     "end_time": "2021-05-18T11:36:08.824992Z",
     "start_time": "2021-05-18T11:36:08.821286Z"
    }
   },
   "outputs": [
    {
     "data": {
      "text/plain": [
       "'The drone industry is already worth billions and studies still predict a considerate growth in the upcoming years. This is due to the fact that these aircrafts are increasingly being used to perform jobs such as delivering good and monitoring plantations. Being able to navigate is an essential task for these robots, and their new functionalities are demanding more from this technology. Geolocation systems have been deeply replied on, though their estimation error makes it impossible to perform tasks that require precision and their lack of stability in certain environments shows the necessity of needing other technologies to guarantee the precise movement of remotely piloted aircrafts. This project presents a solution for navigation through the recognition of images of the terrain. The robot in movement is equipped with a camera to capture images and a scene matching algorithm identiﬁes key points of that image, matching them with a set o previously acquired images, locating the drone the in terrain. The obtained results were evaluated in a small scale simulation of a real oil base, based on the Petrobras challenge, which is inspired by real tasks of interest of the oil and gas industry. A robust software was obtained, that generates the correct navigation for close environments with light control and a small map.'"
      ]
     },
     "execution_count": 9,
     "metadata": {},
     "output_type": "execute_result"
    }
   ],
   "source": [
    "abstract_eng"
   ]
  },
  {
   "cell_type": "code",
   "execution_count": 10,
   "id": "executive-opening",
   "metadata": {
    "ExecuteTime": {
     "end_time": "2021-05-18T11:36:08.829205Z",
     "start_time": "2021-05-18T11:36:08.826311Z"
    }
   },
   "outputs": [],
   "source": [
    "keywords_pt = page[abs_page].split('\\nPalavras-chave: ')[1].replace('.', ' ').replace('\\n', ' ').split('  ')\n",
    "keywords_eng = page[abs_page+1].split('\\nKeywords: ')[1].replace('.', ' ').replace('\\n', ' ').split('  ')"
   ]
  },
  {
   "cell_type": "code",
   "execution_count": 11,
   "id": "african-slave",
   "metadata": {
    "ExecuteTime": {
     "end_time": "2021-05-18T11:36:08.833460Z",
     "start_time": "2021-05-18T11:36:08.830359Z"
    }
   },
   "outputs": [],
   "source": [
    "keywords_pt[-1] = keywords_pt[-1].strip()\n",
    "keywords_eng[-1] = keywords_eng[-1].strip()"
   ]
  },
  {
   "cell_type": "code",
   "execution_count": 12,
   "id": "retained-window",
   "metadata": {
    "ExecuteTime": {
     "end_time": "2021-05-18T11:36:08.839170Z",
     "start_time": "2021-05-18T11:36:08.834692Z"
    }
   },
   "outputs": [
    {
     "data": {
      "text/plain": [
       "(['navegação autônoma', 'visão computacional', 'scene matching'],\n",
       " ['autonomous navigation', 'computer vision', 'scene matching'])"
      ]
     },
     "execution_count": 12,
     "metadata": {},
     "output_type": "execute_result"
    }
   ],
   "source": [
    "keywords_pt, keywords_eng"
   ]
  },
  {
   "cell_type": "code",
   "execution_count": 13,
   "id": "egyptian-closer",
   "metadata": {
    "ExecuteTime": {
     "end_time": "2021-05-18T11:36:08.844807Z",
     "start_time": "2021-05-18T11:36:08.840309Z"
    }
   },
   "outputs": [
    {
     "data": {
      "text/plain": [
       "['Paulo Fernando Ferreira Rosa',\n",
       " ' Erick Menezes Moreira',\n",
       " 'Marlos de Mendonça Corrêa']"
      ]
     },
     "execution_count": 13,
     "metadata": {},
     "output_type": "execute_result"
    }
   ],
   "source": [
    "advisors = page[title_page].split('Orientador(es): ')[1].split('.')[0].replace('\\n', ' ').replace(' e ', ',').split(',')\n",
    "advisors"
   ]
  },
  {
   "cell_type": "code",
   "execution_count": 14,
   "id": "prescribed-garden",
   "metadata": {
    "ExecuteTime": {
     "end_time": "2021-05-18T11:36:08.849987Z",
     "start_time": "2021-05-18T11:36:08.846264Z"
    }
   },
   "outputs": [
    {
     "data": {
      "text/plain": [
       "'Projeto de Final de Curso'"
      ]
     },
     "execution_count": 14,
     "metadata": {},
     "output_type": "execute_result"
    }
   ],
   "source": [
    "if page[title_page].count('Projeto de Final de Curso (graduação)') > 0:\n",
    "    level = 'Projeto de Final de Curso'\n",
    "elif page[title_page].count('Dissertação (mestrado)'):\n",
    "    level = 'Dissertação'\n",
    "elif page[title_page].count('Tese (doutorado)'):\n",
    "    level = 'Tese'\n",
    "else:\n",
    "    level = None\n",
    "    \n",
    "level"
   ]
  },
  {
   "cell_type": "code",
   "execution_count": 15,
   "id": "addressed-nerve",
   "metadata": {
    "ExecuteTime": {
     "end_time": "2021-05-18T11:36:08.854458Z",
     "start_time": "2021-05-18T11:36:08.851111Z"
    }
   },
   "outputs": [
    {
     "data": {
      "text/plain": [
       "'(cid:13)c 2020\\nINSTITUTO MILITAR DE ENGENHARIA\\nPraça General Tibúrcio, 80 – Praia Vermelha\\nRio de Janeiro – RJ CEP: 22290-270\\nEste exemplar é de propriedade do Instituto Militar de Engenharia, que poderá incluí-lo em base\\nde dados, armazenar em computador, microﬁlmar ou adotar qualquer forma de arquivamento.\\nÉ permitida a menção, reprodução parcial ou integral e a transmissão entre bibliotecas deste\\ntrabalho, sem modiﬁcação de seu texto, em qualquer meio que esteja ou venha a ser ﬁxado,\\npara pesquisa acadêmica, comentários e citações, desde que sem ﬁnalidade comercial e que\\nseja feita a referência bibliográﬁca completa.\\nOs conceitos expressos neste trabalho são de responsabilidade do(s) autor(es) e do(s) orienta-\\ndor(es).\\nCosenza, Carla Sze; Germano, Lucas Bastos.\\nControle de drones através do reconhecimento de imagens do terreno / Carla\\nSze Cosenza e Lucas Bastos Germano. – Rio de Janeiro, 2020.\\n63 f.\\nOrientador(es): Paulo Fernando Ferreira Rosa, Erick Menezes Moreira e Marlos\\nde Mendonça Corrêa.\\nProjeto de Final de Curso (graduação) – Instituto Militar de Engenharia, Enge-\\nnharia da Computação, 2020.\\n1. navegação autônoma. 2. visão computacional. 3. scene matching. i. Rosa,\\nPaulo Fernando Ferreira (orient.) ii. Moreira, Erick Menezes (orient.) iii. Corrêa,\\nMarlos de Mendonça (orient.) iv. Título'"
      ]
     },
     "execution_count": 15,
     "metadata": {},
     "output_type": "execute_result"
    }
   ],
   "source": [
    "page[2]"
   ]
  },
  {
   "cell_type": "code",
   "execution_count": 16,
   "id": "mounted-minimum",
   "metadata": {
    "ExecuteTime": {
     "end_time": "2021-05-18T11:36:08.860195Z",
     "start_time": "2021-05-18T11:36:08.856275Z"
    }
   },
   "outputs": [
    {
     "data": {
      "text/plain": [
       "['(cid:13)c 2020',\n",
       " 'INSTITUTO MILITAR DE ENGENHARIA',\n",
       " 'Praça General Tibúrcio, 80 – Praia Vermelha',\n",
       " 'Rio de Janeiro – RJ CEP: 22290-270',\n",
       " 'Este exemplar é de propriedade do Instituto Militar de Engenharia, que poderá incluí-lo em base',\n",
       " 'de dados, armazenar em computador, microﬁlmar ou adotar qualquer forma de arquivamento.',\n",
       " 'É permitida a menção, reprodução parcial ou integral e a transmissão entre bibliotecas deste',\n",
       " 'trabalho, sem modiﬁcação de seu texto, em qualquer meio que esteja ou venha a ser ﬁxado,',\n",
       " 'para pesquisa acadêmica, comentários e citações, desde que sem ﬁnalidade comercial e que',\n",
       " 'seja feita a referência bibliográﬁca completa.',\n",
       " 'Os conceitos expressos neste trabalho são de responsabilidade do(s) autor(es) e do(s) orienta-',\n",
       " 'dor(es).',\n",
       " 'Cosenza, Carla Sze; Germano, Lucas Bastos.',\n",
       " 'Controle de drones através do reconhecimento de imagens do terreno ']"
      ]
     },
     "execution_count": 16,
     "metadata": {},
     "output_type": "execute_result"
    }
   ],
   "source": [
    "page[title_page].split('/')[0].split('\\n')"
   ]
  },
  {
   "cell_type": "code",
   "execution_count": 17,
   "id": "integrated-mustang",
   "metadata": {
    "ExecuteTime": {
     "end_time": "2021-05-18T11:36:08.866148Z",
     "start_time": "2021-05-18T11:36:08.861712Z"
    }
   },
   "outputs": [
    {
     "data": {
      "text/plain": [
       "'Controle De Drones Através Do Reconhecimento De Imagens Do Terreno '"
      ]
     },
     "execution_count": 17,
     "metadata": {},
     "output_type": "execute_result"
    }
   ],
   "source": [
    "title = page[title_page].split('/')[0].split('\\n')[-1].title()\n",
    "title"
   ]
  },
  {
   "cell_type": "code",
   "execution_count": 18,
   "id": "aquatic-steal",
   "metadata": {
    "ExecuteTime": {
     "end_time": "2021-05-18T11:36:08.872299Z",
     "start_time": "2021-05-18T11:36:08.867913Z"
    }
   },
   "outputs": [
    {
     "data": {
      "text/plain": [
       "['Carla Sze Cosenza', 'Lucas Bastos Germano']"
      ]
     },
     "execution_count": 18,
     "metadata": {},
     "output_type": "execute_result"
    }
   ],
   "source": [
    "authors = page[title_page].split('/')[1].strip().title().split('. – ')[0].replace('\\n', ' ').split(' E ')\n",
    "authors"
   ]
  },
  {
   "cell_type": "code",
   "execution_count": 20,
   "id": "thirty-temple",
   "metadata": {
    "ExecuteTime": {
     "end_time": "2021-05-18T11:42:57.176582Z",
     "start_time": "2021-05-18T11:42:56.603825Z"
    }
   },
   "outputs": [
    {
     "data": {
      "text/plain": [
       "{'institution': 'Instituto Militar De Engenharia',\n",
       " 'title': 'Controle De Drones Através Do Reconhecimento De Imagens Do Terreno ',\n",
       " 'authors': ['Carla Sze Cosenza', 'Lucas Bastos Germano'],\n",
       " 'advisors': ['Paulo Fernando Ferreira Rosa',\n",
       "  ' Erick Menezes Moreira',\n",
       "  'Marlos de Mendonça Corrêa'],\n",
       " 'level': 'Projeto de Final de Curso',\n",
       " 'abstract_pt': 'A indústria de drones já possuí um valor bilionário, e mesmo assim prevê um grande crescimento nos próximos anos. Isto é devido ao fato que essas aeronaves estão cada vez mais sendo utilizadas para realização de tarefas comerciais, como entregar compras e monitorar plantações. Conseguir navegar é uma tarefa essencial para estes robôs e suas novas funcionalidades estão exigindo cada vez mais dessa tecnologia. Atualmente, vem-se conﬁandodemasiadamentenautilizaçãodossistemasdegeolocalizaçãoporsatélite;todavia, seu erro de aproximação impossibilita tarefas de localização com requisitos de acurácia adequados e sua falta de estabilidade, em certos ambientes, demanda outras tecnologias para garantir a movimentação precisa de aeronaves remotamente pilotadas. Este trabalho propõe uma solução para a navegação através do reconhecimento de imagens do terreno. Nele, um veículo em movimento é equipado com uma câmera para capturar imagens e um algoritmo de scene matching identiﬁca pontos chaves dessas imagens, relacionando-as com um conjunto de imagens previamente adquirido, localizando o drone no terreno. Os resultados foram avaliados em uma simulação de pequena escala de uma base petrolífera real, proveniente do desaﬁo Petrobras, que é motivado por tarefas de interesse da indústria de óleo e gás. Obteve-se um software, que gera a navegação correta em ambientes fechados com controle de luz e um mapa pequeno.',\n",
       " 'abstract_eng': 'The drone industry is already worth billions and studies still predict a considerate growth in the upcoming years. This is due to the fact that these aircrafts are increasingly being used to perform jobs such as delivering good and monitoring plantations. Being able to navigate is an essential task for these robots, and their new functionalities are demanding more from this technology. Geolocation systems have been deeply replied on, though their estimation error makes it impossible to perform tasks that require precision and their lack of stability in certain environments shows the necessity of needing other technologies to guarantee the precise movement of remotely piloted aircrafts. This project presents a solution for navigation through the recognition of images of the terrain. The robot in movement is equipped with a camera to capture images and a scene matching algorithm identiﬁes key points of that image, matching them with a set o previously acquired images, locating the drone the in terrain. The obtained results were evaluated in a small scale simulation of a real oil base, based on the Petrobras challenge, which is inspired by real tasks of interest of the oil and gas industry. A robust software was obtained, that generates the correct navigation for close environments with light control and a small map.',\n",
       " 'keywords_pt': ['navegação autônoma',\n",
       "  'visão computacional',\n",
       "  'scene matching '],\n",
       " 'keywords_eng': ['autonomous navigation',\n",
       "  'computer vision',\n",
       "  'scene matching ']}"
      ]
     },
     "execution_count": 20,
     "metadata": {},
     "output_type": "execute_result"
    }
   ],
   "source": [
    "def extract_data(path):\n",
    "    with pdfplumber.open(path) as pdf:\n",
    "        page = [pdf.pages[i].extract_text() for i in range(10)]\n",
    "    institution = page[0].split('\\n')[3].title()\n",
    "    for i in range(len(page)):\n",
    "        if page[i].startswith('RESUMO\\n'):\n",
    "            abs_page = i\n",
    "        if page[i].count('CEP: '):\n",
    "            title_page = i\n",
    "    advisors = page[title_page].split('Orientador(es): ')[1].split('.')[0].replace('\\n', ' ').replace(' e ', ',').split(',')\n",
    "    title = page[title_page].split('/')[0].split('\\n')[-1].title()\n",
    "    authors = page[title_page].split('/')[1].strip().title().split('. – ')[0].replace('\\n', ' ').split(' E ')\n",
    "    abstract_pt = page[abs_page].split('RESUMO\\n')[1].split('\\nPalavras-chave:')[0].replace('\\n', ' ')\n",
    "    abstract_eng = page[abs_page+1].split('ABSTRACT\\n')[1].split('\\nKeywords:')[0].replace('\\n', ' ')\n",
    "    keywords_pt = page[abs_page].split('\\nPalavras-chave: ')[1].replace('.', ' ').replace('\\n', ' ').split('  ')\n",
    "    keywords_eng = page[abs_page+1].split('\\nKeywords: ')[1].replace('.', ' ').replace('\\n', ' ').split('  ')\n",
    "    if page[title_page].count('Projeto de Final de Curso (graduação)') > 0:\n",
    "        level = 'Projeto de Final de Curso'\n",
    "    elif page[title_page].count('Dissertação (mestrado)'):\n",
    "        level = 'Dissertação'\n",
    "    elif page[title_page].count('Tese (doutorado)'):\n",
    "        level = 'Tese'\n",
    "    else:\n",
    "        level = None\n",
    "    return {\n",
    "        'institution': institution,\n",
    "        'title': title,\n",
    "        'authors': authors,\n",
    "        'advisors': advisors,\n",
    "        'level': level,\n",
    "        'abstract_pt': abstract_pt,\n",
    "        'abstract_eng': abstract_eng,\n",
    "        'keywords_pt': keywords_pt,\n",
    "        'keywords_eng': keywords_eng\n",
    "    }\n",
    "\n",
    "extract_data('PFC2.pdf')"
   ]
  },
  {
   "cell_type": "code",
   "execution_count": null,
   "id": "paperback-brother",
   "metadata": {},
   "outputs": [],
   "source": []
  }
 ],
 "metadata": {
  "kernelspec": {
   "display_name": "Python 3.8.5 64-bit",
   "language": "python",
   "name": "python38564bit11dc837a74ff44a68e7bb07f8e60881e"
  },
  "language_info": {
   "codemirror_mode": {
    "name": "ipython",
    "version": 3
   },
   "file_extension": ".py",
   "mimetype": "text/x-python",
   "name": "python",
   "nbconvert_exporter": "python",
   "pygments_lexer": "ipython3",
   "version": "3.8.5"
  }
 },
 "nbformat": 4,
 "nbformat_minor": 5
}
